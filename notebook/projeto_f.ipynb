{
 "cells": [
  {
   "cell_type": "code",
   "execution_count": 48,
   "metadata": {},
   "outputs": [],
   "source": [
    "# Abrindo a conexão com o banco de dados\n",
    "\n",
    "import sqlite3\n",
    "import pandas as pd\n",
    "import numpy as np\n",
    "import seaborn as sns\n",
    "import gradio as gr\n",
    "import matplotlib.pyplot as plt\n"
   ]
  },
  {
   "cell_type": "code",
   "execution_count": 49,
   "metadata": {},
   "outputs": [],
   "source": [
    "base = r\"C:\\Users\\Giovanna\\OneDrive\\Documentos\\classes-prediction\\base\\database.db\"\n",
    "conn = sqlite3.connect(base)"
   ]
  },
  {
   "cell_type": "code",
   "execution_count": 50,
   "metadata": {},
   "outputs": [
    {
     "data": {
      "text/html": [
       "<div>\n",
       "<style scoped>\n",
       "    .dataframe tbody tr th:only-of-type {\n",
       "        vertical-align: middle;\n",
       "    }\n",
       "\n",
       "    .dataframe tbody tr th {\n",
       "        vertical-align: top;\n",
       "    }\n",
       "\n",
       "    .dataframe thead th {\n",
       "        text-align: right;\n",
       "    }\n",
       "</style>\n",
       "<table border=\"1\" class=\"dataframe\">\n",
       "  <thead>\n",
       "    <tr style=\"text-align: right;\">\n",
       "      <th></th>\n",
       "      <th>loyalty_number</th>\n",
       "      <th>year</th>\n",
       "      <th>month</th>\n",
       "      <th>flights_booked</th>\n",
       "      <th>flights_with_companions</th>\n",
       "      <th>total_flights</th>\n",
       "      <th>distance</th>\n",
       "      <th>points_accumulated</th>\n",
       "      <th>points_redeemed</th>\n",
       "      <th>dollar_cost_points_redeemed</th>\n",
       "      <th>...</th>\n",
       "      <th>education</th>\n",
       "      <th>salary</th>\n",
       "      <th>marital_status</th>\n",
       "      <th>loyalty_card</th>\n",
       "      <th>clv</th>\n",
       "      <th>enrollment_type</th>\n",
       "      <th>enrollment_year</th>\n",
       "      <th>enrollment_month</th>\n",
       "      <th>cancellation_year</th>\n",
       "      <th>cancellation_month</th>\n",
       "    </tr>\n",
       "  </thead>\n",
       "  <tbody>\n",
       "    <tr>\n",
       "      <th>0</th>\n",
       "      <td>100018</td>\n",
       "      <td>2017</td>\n",
       "      <td>1</td>\n",
       "      <td>3</td>\n",
       "      <td>0</td>\n",
       "      <td>3</td>\n",
       "      <td>1521</td>\n",
       "      <td>152.0</td>\n",
       "      <td>0</td>\n",
       "      <td>0</td>\n",
       "      <td>...</td>\n",
       "      <td>Bachelor</td>\n",
       "      <td>92552.0</td>\n",
       "      <td>Married</td>\n",
       "      <td>Aurora</td>\n",
       "      <td>7919.20</td>\n",
       "      <td>Standard</td>\n",
       "      <td>2016</td>\n",
       "      <td>8</td>\n",
       "      <td>NaN</td>\n",
       "      <td>NaN</td>\n",
       "    </tr>\n",
       "    <tr>\n",
       "      <th>1</th>\n",
       "      <td>100102</td>\n",
       "      <td>2017</td>\n",
       "      <td>1</td>\n",
       "      <td>10</td>\n",
       "      <td>4</td>\n",
       "      <td>14</td>\n",
       "      <td>2030</td>\n",
       "      <td>203.0</td>\n",
       "      <td>0</td>\n",
       "      <td>0</td>\n",
       "      <td>...</td>\n",
       "      <td>College</td>\n",
       "      <td>NaN</td>\n",
       "      <td>Single</td>\n",
       "      <td>Nova</td>\n",
       "      <td>2887.74</td>\n",
       "      <td>Standard</td>\n",
       "      <td>2013</td>\n",
       "      <td>3</td>\n",
       "      <td>NaN</td>\n",
       "      <td>NaN</td>\n",
       "    </tr>\n",
       "    <tr>\n",
       "      <th>2</th>\n",
       "      <td>100140</td>\n",
       "      <td>2017</td>\n",
       "      <td>1</td>\n",
       "      <td>6</td>\n",
       "      <td>0</td>\n",
       "      <td>6</td>\n",
       "      <td>1200</td>\n",
       "      <td>120.0</td>\n",
       "      <td>0</td>\n",
       "      <td>0</td>\n",
       "      <td>...</td>\n",
       "      <td>College</td>\n",
       "      <td>NaN</td>\n",
       "      <td>Divorced</td>\n",
       "      <td>Nova</td>\n",
       "      <td>2838.07</td>\n",
       "      <td>Standard</td>\n",
       "      <td>2016</td>\n",
       "      <td>7</td>\n",
       "      <td>NaN</td>\n",
       "      <td>NaN</td>\n",
       "    </tr>\n",
       "    <tr>\n",
       "      <th>3</th>\n",
       "      <td>100214</td>\n",
       "      <td>2017</td>\n",
       "      <td>1</td>\n",
       "      <td>0</td>\n",
       "      <td>0</td>\n",
       "      <td>0</td>\n",
       "      <td>0</td>\n",
       "      <td>0.0</td>\n",
       "      <td>0</td>\n",
       "      <td>0</td>\n",
       "      <td>...</td>\n",
       "      <td>Bachelor</td>\n",
       "      <td>63253.0</td>\n",
       "      <td>Married</td>\n",
       "      <td>Star</td>\n",
       "      <td>4170.57</td>\n",
       "      <td>Standard</td>\n",
       "      <td>2015</td>\n",
       "      <td>8</td>\n",
       "      <td>NaN</td>\n",
       "      <td>NaN</td>\n",
       "    </tr>\n",
       "    <tr>\n",
       "      <th>4</th>\n",
       "      <td>100272</td>\n",
       "      <td>2017</td>\n",
       "      <td>1</td>\n",
       "      <td>0</td>\n",
       "      <td>0</td>\n",
       "      <td>0</td>\n",
       "      <td>0</td>\n",
       "      <td>0.0</td>\n",
       "      <td>0</td>\n",
       "      <td>0</td>\n",
       "      <td>...</td>\n",
       "      <td>Bachelor</td>\n",
       "      <td>91163.0</td>\n",
       "      <td>Divorced</td>\n",
       "      <td>Star</td>\n",
       "      <td>6622.05</td>\n",
       "      <td>Standard</td>\n",
       "      <td>2014</td>\n",
       "      <td>1</td>\n",
       "      <td>NaN</td>\n",
       "      <td>NaN</td>\n",
       "    </tr>\n",
       "    <tr>\n",
       "      <th>...</th>\n",
       "      <td>...</td>\n",
       "      <td>...</td>\n",
       "      <td>...</td>\n",
       "      <td>...</td>\n",
       "      <td>...</td>\n",
       "      <td>...</td>\n",
       "      <td>...</td>\n",
       "      <td>...</td>\n",
       "      <td>...</td>\n",
       "      <td>...</td>\n",
       "      <td>...</td>\n",
       "      <td>...</td>\n",
       "      <td>...</td>\n",
       "      <td>...</td>\n",
       "      <td>...</td>\n",
       "      <td>...</td>\n",
       "      <td>...</td>\n",
       "      <td>...</td>\n",
       "      <td>...</td>\n",
       "      <td>...</td>\n",
       "      <td>...</td>\n",
       "    </tr>\n",
       "    <tr>\n",
       "      <th>405619</th>\n",
       "      <td>999902</td>\n",
       "      <td>2018</td>\n",
       "      <td>12</td>\n",
       "      <td>0</td>\n",
       "      <td>0</td>\n",
       "      <td>0</td>\n",
       "      <td>0</td>\n",
       "      <td>0.0</td>\n",
       "      <td>0</td>\n",
       "      <td>0</td>\n",
       "      <td>...</td>\n",
       "      <td>College</td>\n",
       "      <td>NaN</td>\n",
       "      <td>Married</td>\n",
       "      <td>Aurora</td>\n",
       "      <td>7290.07</td>\n",
       "      <td>Standard</td>\n",
       "      <td>2014</td>\n",
       "      <td>5</td>\n",
       "      <td>NaN</td>\n",
       "      <td>NaN</td>\n",
       "    </tr>\n",
       "    <tr>\n",
       "      <th>405620</th>\n",
       "      <td>999911</td>\n",
       "      <td>2018</td>\n",
       "      <td>12</td>\n",
       "      <td>0</td>\n",
       "      <td>0</td>\n",
       "      <td>0</td>\n",
       "      <td>0</td>\n",
       "      <td>0.0</td>\n",
       "      <td>0</td>\n",
       "      <td>0</td>\n",
       "      <td>...</td>\n",
       "      <td>Doctor</td>\n",
       "      <td>217943.0</td>\n",
       "      <td>Single</td>\n",
       "      <td>Nova</td>\n",
       "      <td>8564.77</td>\n",
       "      <td>Standard</td>\n",
       "      <td>2012</td>\n",
       "      <td>8</td>\n",
       "      <td>NaN</td>\n",
       "      <td>NaN</td>\n",
       "    </tr>\n",
       "    <tr>\n",
       "      <th>405621</th>\n",
       "      <td>999940</td>\n",
       "      <td>2018</td>\n",
       "      <td>12</td>\n",
       "      <td>3</td>\n",
       "      <td>0</td>\n",
       "      <td>3</td>\n",
       "      <td>1233</td>\n",
       "      <td>123.0</td>\n",
       "      <td>0</td>\n",
       "      <td>0</td>\n",
       "      <td>...</td>\n",
       "      <td>Bachelor</td>\n",
       "      <td>47670.0</td>\n",
       "      <td>Married</td>\n",
       "      <td>Nova</td>\n",
       "      <td>20266.50</td>\n",
       "      <td>Standard</td>\n",
       "      <td>2017</td>\n",
       "      <td>7</td>\n",
       "      <td>NaN</td>\n",
       "      <td>NaN</td>\n",
       "    </tr>\n",
       "    <tr>\n",
       "      <th>405622</th>\n",
       "      <td>999982</td>\n",
       "      <td>2018</td>\n",
       "      <td>12</td>\n",
       "      <td>0</td>\n",
       "      <td>0</td>\n",
       "      <td>0</td>\n",
       "      <td>0</td>\n",
       "      <td>0.0</td>\n",
       "      <td>0</td>\n",
       "      <td>0</td>\n",
       "      <td>...</td>\n",
       "      <td>College</td>\n",
       "      <td>NaN</td>\n",
       "      <td>Married</td>\n",
       "      <td>Star</td>\n",
       "      <td>2631.56</td>\n",
       "      <td>Standard</td>\n",
       "      <td>2018</td>\n",
       "      <td>7</td>\n",
       "      <td>NaN</td>\n",
       "      <td>NaN</td>\n",
       "    </tr>\n",
       "    <tr>\n",
       "      <th>405623</th>\n",
       "      <td>999986</td>\n",
       "      <td>2018</td>\n",
       "      <td>12</td>\n",
       "      <td>0</td>\n",
       "      <td>0</td>\n",
       "      <td>0</td>\n",
       "      <td>0</td>\n",
       "      <td>0.0</td>\n",
       "      <td>0</td>\n",
       "      <td>0</td>\n",
       "      <td>...</td>\n",
       "      <td>Bachelor</td>\n",
       "      <td>46594.0</td>\n",
       "      <td>Married</td>\n",
       "      <td>Nova</td>\n",
       "      <td>8257.01</td>\n",
       "      <td>2018 Promotion</td>\n",
       "      <td>2018</td>\n",
       "      <td>2</td>\n",
       "      <td>NaN</td>\n",
       "      <td>NaN</td>\n",
       "    </tr>\n",
       "  </tbody>\n",
       "</table>\n",
       "<p>405624 rows × 26 columns</p>\n",
       "</div>"
      ],
      "text/plain": [
       "        loyalty_number  year  month  flights_booked  flights_with_companions  \\\n",
       "0               100018  2017      1               3                        0   \n",
       "1               100102  2017      1              10                        4   \n",
       "2               100140  2017      1               6                        0   \n",
       "3               100214  2017      1               0                        0   \n",
       "4               100272  2017      1               0                        0   \n",
       "...                ...   ...    ...             ...                      ...   \n",
       "405619          999902  2018     12               0                        0   \n",
       "405620          999911  2018     12               0                        0   \n",
       "405621          999940  2018     12               3                        0   \n",
       "405622          999982  2018     12               0                        0   \n",
       "405623          999986  2018     12               0                        0   \n",
       "\n",
       "        total_flights  distance  points_accumulated  points_redeemed  \\\n",
       "0                   3      1521               152.0                0   \n",
       "1                  14      2030               203.0                0   \n",
       "2                   6      1200               120.0                0   \n",
       "3                   0         0                 0.0                0   \n",
       "4                   0         0                 0.0                0   \n",
       "...               ...       ...                 ...              ...   \n",
       "405619              0         0                 0.0                0   \n",
       "405620              0         0                 0.0                0   \n",
       "405621              3      1233               123.0                0   \n",
       "405622              0         0                 0.0                0   \n",
       "405623              0         0                 0.0                0   \n",
       "\n",
       "        dollar_cost_points_redeemed  ...  education    salary marital_status  \\\n",
       "0                                 0  ...   Bachelor   92552.0        Married   \n",
       "1                                 0  ...    College       NaN         Single   \n",
       "2                                 0  ...    College       NaN       Divorced   \n",
       "3                                 0  ...   Bachelor   63253.0        Married   \n",
       "4                                 0  ...   Bachelor   91163.0       Divorced   \n",
       "...                             ...  ...        ...       ...            ...   \n",
       "405619                            0  ...    College       NaN        Married   \n",
       "405620                            0  ...     Doctor  217943.0         Single   \n",
       "405621                            0  ...   Bachelor   47670.0        Married   \n",
       "405622                            0  ...    College       NaN        Married   \n",
       "405623                            0  ...   Bachelor   46594.0        Married   \n",
       "\n",
       "       loyalty_card       clv enrollment_type enrollment_year  \\\n",
       "0            Aurora   7919.20        Standard            2016   \n",
       "1              Nova   2887.74        Standard            2013   \n",
       "2              Nova   2838.07        Standard            2016   \n",
       "3              Star   4170.57        Standard            2015   \n",
       "4              Star   6622.05        Standard            2014   \n",
       "...             ...       ...             ...             ...   \n",
       "405619       Aurora   7290.07        Standard            2014   \n",
       "405620         Nova   8564.77        Standard            2012   \n",
       "405621         Nova  20266.50        Standard            2017   \n",
       "405622         Star   2631.56        Standard            2018   \n",
       "405623         Nova   8257.01  2018 Promotion            2018   \n",
       "\n",
       "        enrollment_month cancellation_year cancellation_month  \n",
       "0                      8               NaN                NaN  \n",
       "1                      3               NaN                NaN  \n",
       "2                      7               NaN                NaN  \n",
       "3                      8               NaN                NaN  \n",
       "4                      1               NaN                NaN  \n",
       "...                  ...               ...                ...  \n",
       "405619                 5               NaN                NaN  \n",
       "405620                 8               NaN                NaN  \n",
       "405621                 7               NaN                NaN  \n",
       "405622                 7               NaN                NaN  \n",
       "405623                 2               NaN                NaN  \n",
       "\n",
       "[405624 rows x 26 columns]"
      ]
     },
     "execution_count": 50,
     "metadata": {},
     "output_type": "execute_result"
    }
   ],
   "source": [
    "# consulta dos dados no banco de dados\n",
    "consulta_atividade = \"\"\"\n",
    " SELECT\n",
    " *\n",
    " FROM\n",
    " flight_activity fa\n",
    " LEFT JOIN flight_loyalty_history flh\n",
    " ON (fa.loyalty_number=flh.loyalty_number)\n",
    "\"\"\"\n",
    "df_atividade = pd.read_sql_query(consulta_atividade,conn)\n",
    "\n",
    "# Consulta de tabela\n",
    "df_atividade\n"
   ]
  },
  {
   "cell_type": "code",
   "execution_count": 51,
   "metadata": {},
   "outputs": [],
   "source": [
    "# Fechando conexão com o banco de dados\n",
    "conn.close()"
   ]
  },
  {
   "cell_type": "markdown",
   "metadata": {},
   "source": [
    "-------"
   ]
  },
  {
   "cell_type": "markdown",
   "metadata": {},
   "source": [
    "Parte 2\n",
    "\n",
    "1.4 Coletando os dados para análise:\n",
    "\n",
    "Para executar o próximo passo do plano de solução do problema de negócio, precisamos coletar os dados do banco de dados"
   ]
  },
  {
   "cell_type": "code",
   "execution_count": 52,
   "metadata": {},
   "outputs": [],
   "source": [
    "df1 = df_atividade.copy()"
   ]
  },
  {
   "cell_type": "markdown",
   "metadata": {},
   "source": [
    "4.0. Preparando os dados para treinamento do algoritmo"
   ]
  },
  {
   "cell_type": "code",
   "execution_count": 53,
   "metadata": {},
   "outputs": [
    {
     "data": {
      "text/plain": [
       "year                       0\n",
       "month                      0\n",
       "flights_booked             0\n",
       "flights_with_companions    0\n",
       "total_flights              0\n",
       "distance                   0\n",
       "points_accumulated         0\n",
       "salary                     0\n",
       "clv                        0\n",
       "loyalty_card               0\n",
       "dtype: int64"
      ]
     },
     "execution_count": 53,
     "metadata": {},
     "output_type": "execute_result"
    }
   ],
   "source": [
    "# selecionando somente as colunas numéricas para o modelo\n",
    "colunas = ['year', 'month', 'flights_booked',\n",
    "'flights_with_companions', 'total_flights',\n",
    "'distance', 'points_accumulated', 'salary',\n",
    "'clv', 'loyalty_card']\n",
    "\n",
    "df_colunas_selecionadas = df_atividade.loc[:, colunas]\n",
    "\n",
    "# removendo linhas com alguma coluna vazia\n",
    "df_treinamento = df_colunas_selecionadas.dropna()\n",
    "\n",
    "# verificando o numero de linhas vazias\n",
    "df_treinamento.isna().sum()"
   ]
  },
  {
   "cell_type": "code",
   "execution_count": 54,
   "metadata": {},
   "outputs": [
    {
     "data": {
      "text/plain": [
       "year                       0\n",
       "month                      0\n",
       "flights_booked             0\n",
       "flights_with_companions    0\n",
       "total_flights              0\n",
       "points_accumulated         0\n",
       "salary                     0\n",
       "clv                        0\n",
       "loyalty_card               0\n",
       "dtype: int64"
      ]
     },
     "execution_count": 54,
     "metadata": {},
     "output_type": "execute_result"
    }
   ],
   "source": [
    "# selecionando somente as colunas numéricas para o modelo\n",
    "colunas_scr = ['year','month','flights_booked','flights_with_companions','total_flights','points_accumulated','salary','clv','loyalty_card']\n",
    "\n",
    "df_colunas_selecionadas_scr = df_atividade.loc[:, colunas_scr]\n",
    "\n",
    "# removendo linhas com alguma coluna vazia\n",
    "df_treinamento_scr = df_colunas_selecionadas_scr.dropna()\n",
    "\n",
    "# verificando o numero de linhas vazias\n",
    "df_treinamento_scr.isna().sum()"
   ]
  },
  {
   "cell_type": "code",
   "execution_count": 55,
   "metadata": {},
   "outputs": [
    {
     "data": {
      "text/plain": [
       "302952"
      ]
     },
     "execution_count": 55,
     "metadata": {},
     "output_type": "execute_result"
    }
   ],
   "source": [
    "# Verificando quantidade de linhas nos dados \n",
    "df_treinamento.shape[0]"
   ]
  },
  {
   "cell_type": "code",
   "execution_count": 56,
   "metadata": {},
   "outputs": [
    {
     "data": {
      "text/html": [
       "<div>\n",
       "<style scoped>\n",
       "    .dataframe tbody tr th:only-of-type {\n",
       "        vertical-align: middle;\n",
       "    }\n",
       "\n",
       "    .dataframe tbody tr th {\n",
       "        vertical-align: top;\n",
       "    }\n",
       "\n",
       "    .dataframe thead th {\n",
       "        text-align: right;\n",
       "    }\n",
       "</style>\n",
       "<table border=\"1\" class=\"dataframe\">\n",
       "  <thead>\n",
       "    <tr style=\"text-align: right;\">\n",
       "      <th></th>\n",
       "      <th>year</th>\n",
       "      <th>month</th>\n",
       "      <th>flights_booked</th>\n",
       "      <th>flights_with_companions</th>\n",
       "      <th>total_flights</th>\n",
       "      <th>distance</th>\n",
       "      <th>points_accumulated</th>\n",
       "      <th>salary</th>\n",
       "      <th>clv</th>\n",
       "      <th>loyalty_card</th>\n",
       "    </tr>\n",
       "  </thead>\n",
       "  <tbody>\n",
       "    <tr>\n",
       "      <th>0</th>\n",
       "      <td>2017</td>\n",
       "      <td>1</td>\n",
       "      <td>3</td>\n",
       "      <td>0</td>\n",
       "      <td>3</td>\n",
       "      <td>1521</td>\n",
       "      <td>152.0</td>\n",
       "      <td>92552.0</td>\n",
       "      <td>7919.20</td>\n",
       "      <td>Aurora</td>\n",
       "    </tr>\n",
       "    <tr>\n",
       "      <th>3</th>\n",
       "      <td>2017</td>\n",
       "      <td>1</td>\n",
       "      <td>0</td>\n",
       "      <td>0</td>\n",
       "      <td>0</td>\n",
       "      <td>0</td>\n",
       "      <td>0.0</td>\n",
       "      <td>63253.0</td>\n",
       "      <td>4170.57</td>\n",
       "      <td>Star</td>\n",
       "    </tr>\n",
       "    <tr>\n",
       "      <th>4</th>\n",
       "      <td>2017</td>\n",
       "      <td>1</td>\n",
       "      <td>0</td>\n",
       "      <td>0</td>\n",
       "      <td>0</td>\n",
       "      <td>0</td>\n",
       "      <td>0.0</td>\n",
       "      <td>91163.0</td>\n",
       "      <td>6622.05</td>\n",
       "      <td>Star</td>\n",
       "    </tr>\n",
       "    <tr>\n",
       "      <th>5</th>\n",
       "      <td>2017</td>\n",
       "      <td>1</td>\n",
       "      <td>0</td>\n",
       "      <td>0</td>\n",
       "      <td>0</td>\n",
       "      <td>0</td>\n",
       "      <td>0.0</td>\n",
       "      <td>70323.0</td>\n",
       "      <td>48356.96</td>\n",
       "      <td>Nova</td>\n",
       "    </tr>\n",
       "    <tr>\n",
       "      <th>6</th>\n",
       "      <td>2017</td>\n",
       "      <td>1</td>\n",
       "      <td>0</td>\n",
       "      <td>0</td>\n",
       "      <td>0</td>\n",
       "      <td>0</td>\n",
       "      <td>0.0</td>\n",
       "      <td>76849.0</td>\n",
       "      <td>5143.88</td>\n",
       "      <td>Nova</td>\n",
       "    </tr>\n",
       "  </tbody>\n",
       "</table>\n",
       "</div>"
      ],
      "text/plain": [
       "   year  month  flights_booked  flights_with_companions  total_flights  \\\n",
       "0  2017      1               3                        0              3   \n",
       "3  2017      1               0                        0              0   \n",
       "4  2017      1               0                        0              0   \n",
       "5  2017      1               0                        0              0   \n",
       "6  2017      1               0                        0              0   \n",
       "\n",
       "   distance  points_accumulated   salary       clv loyalty_card  \n",
       "0      1521               152.0  92552.0   7919.20       Aurora  \n",
       "3         0                 0.0  63253.0   4170.57         Star  \n",
       "4         0                 0.0  91163.0   6622.05         Star  \n",
       "5         0                 0.0  70323.0  48356.96         Nova  \n",
       "6         0                 0.0  76849.0   5143.88         Nova  "
      ]
     },
     "execution_count": 56,
     "metadata": {},
     "output_type": "execute_result"
    }
   ],
   "source": [
    "# Verificando quantidade de colunas nos dados \n",
    "df_treinamento.head()"
   ]
  },
  {
   "cell_type": "markdown",
   "metadata": {},
   "source": [
    "Análise exploratória dos dados"
   ]
  },
  {
   "cell_type": "code",
   "execution_count": 57,
   "metadata": {},
   "outputs": [
    {
     "data": {
      "text/html": [
       "<div>\n",
       "<style scoped>\n",
       "    .dataframe tbody tr th:only-of-type {\n",
       "        vertical-align: middle;\n",
       "    }\n",
       "\n",
       "    .dataframe tbody tr th {\n",
       "        vertical-align: top;\n",
       "    }\n",
       "\n",
       "    .dataframe thead th {\n",
       "        text-align: right;\n",
       "    }\n",
       "</style>\n",
       "<table border=\"1\" class=\"dataframe\">\n",
       "  <thead>\n",
       "    <tr style=\"text-align: right;\">\n",
       "      <th></th>\n",
       "      <th>year</th>\n",
       "      <th>month</th>\n",
       "      <th>flights_booked</th>\n",
       "      <th>flights_with_companions</th>\n",
       "      <th>total_flights</th>\n",
       "      <th>distance</th>\n",
       "      <th>points_accumulated</th>\n",
       "      <th>salary</th>\n",
       "      <th>clv</th>\n",
       "    </tr>\n",
       "  </thead>\n",
       "  <tbody>\n",
       "    <tr>\n",
       "      <th>count</th>\n",
       "      <td>302952.000000</td>\n",
       "      <td>302952.000000</td>\n",
       "      <td>302952.000000</td>\n",
       "      <td>302952.000000</td>\n",
       "      <td>302952.000000</td>\n",
       "      <td>302952.000000</td>\n",
       "      <td>302952.000000</td>\n",
       "      <td>302952.000000</td>\n",
       "      <td>302952.000000</td>\n",
       "    </tr>\n",
       "    <tr>\n",
       "      <th>mean</th>\n",
       "      <td>2017.500000</td>\n",
       "      <td>6.500000</td>\n",
       "      <td>4.102188</td>\n",
       "      <td>1.027546</td>\n",
       "      <td>5.129733</td>\n",
       "      <td>1206.698319</td>\n",
       "      <td>123.510918</td>\n",
       "      <td>79268.825953</td>\n",
       "      <td>8133.139523</td>\n",
       "    </tr>\n",
       "    <tr>\n",
       "      <th>std</th>\n",
       "      <td>0.500001</td>\n",
       "      <td>3.452058</td>\n",
       "      <td>5.219821</td>\n",
       "      <td>2.072329</td>\n",
       "      <td>6.512395</td>\n",
       "      <td>1433.422843</td>\n",
       "      <td>146.673943</td>\n",
       "      <td>34992.133508</td>\n",
       "      <td>6962.273365</td>\n",
       "    </tr>\n",
       "    <tr>\n",
       "      <th>min</th>\n",
       "      <td>2017.000000</td>\n",
       "      <td>1.000000</td>\n",
       "      <td>0.000000</td>\n",
       "      <td>0.000000</td>\n",
       "      <td>0.000000</td>\n",
       "      <td>0.000000</td>\n",
       "      <td>0.000000</td>\n",
       "      <td>-58486.000000</td>\n",
       "      <td>2119.890000</td>\n",
       "    </tr>\n",
       "    <tr>\n",
       "      <th>25%</th>\n",
       "      <td>2017.000000</td>\n",
       "      <td>3.750000</td>\n",
       "      <td>0.000000</td>\n",
       "      <td>0.000000</td>\n",
       "      <td>0.000000</td>\n",
       "      <td>0.000000</td>\n",
       "      <td>0.000000</td>\n",
       "      <td>59262.000000</td>\n",
       "      <td>4089.460000</td>\n",
       "    </tr>\n",
       "    <tr>\n",
       "      <th>50%</th>\n",
       "      <td>2017.500000</td>\n",
       "      <td>6.500000</td>\n",
       "      <td>1.000000</td>\n",
       "      <td>0.000000</td>\n",
       "      <td>1.000000</td>\n",
       "      <td>472.000000</td>\n",
       "      <td>48.000000</td>\n",
       "      <td>73479.000000</td>\n",
       "      <td>5810.630000</td>\n",
       "    </tr>\n",
       "    <tr>\n",
       "      <th>75%</th>\n",
       "      <td>2018.000000</td>\n",
       "      <td>9.250000</td>\n",
       "      <td>8.000000</td>\n",
       "      <td>1.000000</td>\n",
       "      <td>10.000000</td>\n",
       "      <td>2332.000000</td>\n",
       "      <td>239.000000</td>\n",
       "      <td>88612.000000</td>\n",
       "      <td>9075.770000</td>\n",
       "    </tr>\n",
       "    <tr>\n",
       "      <th>max</th>\n",
       "      <td>2018.000000</td>\n",
       "      <td>12.000000</td>\n",
       "      <td>21.000000</td>\n",
       "      <td>11.000000</td>\n",
       "      <td>32.000000</td>\n",
       "      <td>6293.000000</td>\n",
       "      <td>676.500000</td>\n",
       "      <td>407228.000000</td>\n",
       "      <td>83325.380000</td>\n",
       "    </tr>\n",
       "  </tbody>\n",
       "</table>\n",
       "</div>"
      ],
      "text/plain": [
       "                year          month  flights_booked  flights_with_companions  \\\n",
       "count  302952.000000  302952.000000   302952.000000            302952.000000   \n",
       "mean     2017.500000       6.500000        4.102188                 1.027546   \n",
       "std         0.500001       3.452058        5.219821                 2.072329   \n",
       "min      2017.000000       1.000000        0.000000                 0.000000   \n",
       "25%      2017.000000       3.750000        0.000000                 0.000000   \n",
       "50%      2017.500000       6.500000        1.000000                 0.000000   \n",
       "75%      2018.000000       9.250000        8.000000                 1.000000   \n",
       "max      2018.000000      12.000000       21.000000                11.000000   \n",
       "\n",
       "       total_flights       distance  points_accumulated         salary  \\\n",
       "count  302952.000000  302952.000000       302952.000000  302952.000000   \n",
       "mean        5.129733    1206.698319          123.510918   79268.825953   \n",
       "std         6.512395    1433.422843          146.673943   34992.133508   \n",
       "min         0.000000       0.000000            0.000000  -58486.000000   \n",
       "25%         0.000000       0.000000            0.000000   59262.000000   \n",
       "50%         1.000000     472.000000           48.000000   73479.000000   \n",
       "75%        10.000000    2332.000000          239.000000   88612.000000   \n",
       "max        32.000000    6293.000000          676.500000  407228.000000   \n",
       "\n",
       "                 clv  \n",
       "count  302952.000000  \n",
       "mean     8133.139523  \n",
       "std      6962.273365  \n",
       "min      2119.890000  \n",
       "25%      4089.460000  \n",
       "50%      5810.630000  \n",
       "75%      9075.770000  \n",
       "max     83325.380000  "
      ]
     },
     "execution_count": 57,
     "metadata": {},
     "output_type": "execute_result"
    }
   ],
   "source": [
    "df_treinamento.describe()"
   ]
  },
  {
   "cell_type": "code",
   "execution_count": 58,
   "metadata": {},
   "outputs": [
    {
     "data": {
      "text/plain": [
       "<seaborn.axisgrid.FacetGrid at 0x2ad8fa4ec00>"
      ]
     },
     "execution_count": 58,
     "metadata": {},
     "output_type": "execute_result"
    }
   ],
   "source": [
    "#Plot da densidade de distribuição do fenômeno que queremos prever\n",
    "sns.displot(df_treinamento['loyalty_card'],kde=False)"
   ]
  },
  {
   "cell_type": "markdown",
   "metadata": {},
   "source": [
    "Maior volume de clientes com cartão Star."
   ]
  },
  {
   "cell_type": "code",
   "execution_count": 59,
   "metadata": {},
   "outputs": [
    {
     "name": "stderr",
     "output_type": "stream",
     "text": [
      "C:\\Users\\Giovanna\\AppData\\Local\\Temp\\ipykernel_6040\\33169660.py:3: UserWarning: FigureCanvasAgg is non-interactive, and thus cannot be shown\n",
      "  plt.show()\n"
     ]
    }
   ],
   "source": [
    "# Visualização da Distribuição das Variáveis\n",
    "df_treinamento.hist(bins=20, figsize=(15,10))\n",
    "plt.show()"
   ]
  },
  {
   "cell_type": "markdown",
   "metadata": {},
   "source": [
    "Dado a forma das distribuições das variáveis, vemos que a maior parte das pessoas das pessoas fazem poucos voos, com curtas distâncias e de acordo com o seu comportamento, há poucos pontos acumulados e um baixo CLV. Ou seja, há um desempenho padrão nos dados apresentados."
   ]
  },
  {
   "cell_type": "code",
   "execution_count": 60,
   "metadata": {},
   "outputs": [
    {
     "name": "stdout",
     "output_type": "stream",
     "text": [
      "                                 year         month  flights_booked  \\\n",
      "year                     1.000000e+00 -8.147391e-12        0.044179   \n",
      "month                   -8.147391e-12  1.000000e+00        0.082649   \n",
      "flights_booked           4.417864e-02  8.264907e-02        1.000000   \n",
      "flights_with_companions  2.092814e-02  6.495257e-02        0.502451   \n",
      "total_flights            4.206971e-02  8.691371e-02        0.961407   \n",
      "distance                 5.563614e-02  7.726976e-02        0.767238   \n",
      "points_accumulated       7.493208e-02  5.481486e-02        0.759909   \n",
      "salary                   1.295501e-14  1.276233e-14        0.005804   \n",
      "clv                      1.101302e-13 -4.660108e-15       -0.004065   \n",
      "\n",
      "                         flights_with_companions  total_flights  distance  \\\n",
      "year                                    0.020928       0.042070  0.055636   \n",
      "month                                   0.064953       0.086914  0.077270   \n",
      "flights_booked                          0.502451       0.961407  0.767238   \n",
      "flights_with_companions                 1.000000       0.720938  0.518485   \n",
      "total_flights                           0.720938       1.000000  0.779946   \n",
      "distance                                0.518485       0.779946  1.000000   \n",
      "points_accumulated                      0.511540       0.771862  0.994472   \n",
      "salary                                  0.002493       0.005445  0.008042   \n",
      "clv                                    -0.002961      -0.004201 -0.006436   \n",
      "\n",
      "                         points_accumulated        salary           clv  \n",
      "year                               0.074932  1.295501e-14  1.101302e-13  \n",
      "month                              0.054815  1.276233e-14 -4.660108e-15  \n",
      "flights_booked                     0.759909  5.803686e-03 -4.065272e-03  \n",
      "flights_with_companions            0.511540  2.493185e-03 -2.961320e-03  \n",
      "total_flights                      0.771862  5.445140e-03 -4.200731e-03  \n",
      "distance                           0.994472  8.041642e-03 -6.435638e-03  \n",
      "points_accumulated                 1.000000  7.867267e-03 -3.454419e-03  \n",
      "salary                             0.007867  1.000000e+00 -2.263730e-02  \n",
      "clv                               -0.003454 -2.263730e-02  1.000000e+00  \n"
     ]
    }
   ],
   "source": [
    "# Correlação entre Variáveis\n",
    "correlacao = df_treinamento.iloc[:,0:9].corr()\n",
    "print(correlacao)"
   ]
  },
  {
   "cell_type": "code",
   "execution_count": 61,
   "metadata": {},
   "outputs": [
    {
     "name": "stderr",
     "output_type": "stream",
     "text": [
      "C:\\Users\\Giovanna\\AppData\\Local\\Temp\\ipykernel_6040\\2618244400.py:5: UserWarning: FigureCanvasAgg is non-interactive, and thus cannot be shown\n",
      "  plt.show()\n"
     ]
    }
   ],
   "source": [
    "# Visualização da Correlação\n",
    "plt.figure(figsize=(12, 8))\n",
    "sns.heatmap(correlacao, annot=True, cmap='coolwarm', fmt=\".2f\")\n",
    "plt.title('Matriz de Correlação')\n",
    "plt.show()"
   ]
  },
  {
   "cell_type": "markdown",
   "metadata": {},
   "source": [
    "Treinando algoritmo - machine learning"
   ]
  },
  {
   "cell_type": "code",
   "execution_count": 62,
   "metadata": {},
   "outputs": [],
   "source": [
    "from sklearn import tree as tr\n",
    "import matplotlib\n",
    "from sklearn.model_selection import train_test_split\n",
    "from sklearn.metrics import accuracy_score\n",
    "from sklearn.ensemble import RandomForestClassifier"
   ]
  },
  {
   "cell_type": "markdown",
   "metadata": {},
   "source": [
    "### Árvore de decisão"
   ]
  },
  {
   "cell_type": "code",
   "execution_count": 63,
   "metadata": {},
   "outputs": [],
   "source": [
    "X = df_treinamento.drop( columns=['loyalty_card'] )\n",
    "y = df_treinamento.loc[:, 'loyalty_card']\n",
    "\n",
    "# Dividir os dados em conjunto de treinamento e teste\n",
    "X_train, X_test, y_train, y_test = train_test_split(X, y, test_size=0.3, random_state=42)"
   ]
  },
  {
   "cell_type": "code",
   "execution_count": 64,
   "metadata": {},
   "outputs": [],
   "source": [
    "# Definindo o algoritmo Decision Tree\n",
    "modelo = tr.DecisionTreeClassifier(max_depth=10)"
   ]
  },
  {
   "cell_type": "code",
   "execution_count": 65,
   "metadata": {},
   "outputs": [],
   "source": [
    "# Treinar o modelo no conjunto de treinamento\n",
    "modelo_treinado = modelo.fit(X_train, y_train)"
   ]
  },
  {
   "cell_type": "code",
   "execution_count": 66,
   "metadata": {},
   "outputs": [],
   "source": [
    "# Fazer previsões no conjunto de teste\n",
    "previsoes = modelo_treinado.predict(X_test)"
   ]
  },
  {
   "cell_type": "code",
   "execution_count": 67,
   "metadata": {},
   "outputs": [
    {
     "name": "stdout",
     "output_type": "stream",
     "text": [
      "Acurácia do modelo: 0.5195629689941245\n"
     ]
    }
   ],
   "source": [
    "# Calcular a acurácia\n",
    "acuracia = accuracy_score(y_test, previsoes)\n",
    "print(\"Acurácia do modelo:\", acuracia)"
   ]
  },
  {
   "cell_type": "markdown",
   "metadata": {},
   "source": [
    "### Random Forest"
   ]
  },
  {
   "cell_type": "code",
   "execution_count": 68,
   "metadata": {},
   "outputs": [],
   "source": [
    "X = df_treinamento_scr.drop( columns=['loyalty_card'] )\n",
    "y = df_treinamento_scr.loc[:, 'loyalty_card']\n",
    "\n",
    "# Dividir os dados em conjunto de treinamento e teste\n",
    "X_train, X_test, y_train, y_test = train_test_split(X, y, test_size=0.3, random_state=42)"
   ]
  },
  {
   "cell_type": "code",
   "execution_count": 69,
   "metadata": {},
   "outputs": [],
   "source": [
    "# Definir o modelo Random Forest\n",
    "modelo_rf = RandomForestClassifier(n_estimators=100, max_depth=10, random_state=42)"
   ]
  },
  {
   "cell_type": "code",
   "execution_count": 70,
   "metadata": {},
   "outputs": [],
   "source": [
    "# Treinar o modelo Random Forest no conjunto de treinamento\n",
    "modelo_rf_treinado = modelo_rf.fit(X_train, y_train)"
   ]
  },
  {
   "cell_type": "code",
   "execution_count": 71,
   "metadata": {},
   "outputs": [],
   "source": [
    "# Fazer previsões no conjunto de teste\n",
    "previsoes_rf = modelo_rf_treinado.predict(X_test)"
   ]
  },
  {
   "cell_type": "code",
   "execution_count": 72,
   "metadata": {},
   "outputs": [
    {
     "name": "stdout",
     "output_type": "stream",
     "text": [
      "Acurácia do modelo Random Forest: 0.512785247452853\n"
     ]
    }
   ],
   "source": [
    "# Calcular a acurácia do modelo Random Forest\n",
    "acuracia_rf = accuracy_score(y_test, previsoes_rf)\n",
    "print(\"Acurácia do modelo Random Forest:\", acuracia_rf)"
   ]
  },
  {
   "cell_type": "markdown",
   "metadata": {},
   "source": [
    "Dado o cenário que estávamos"
   ]
  },
  {
   "cell_type": "code",
   "execution_count": 73,
   "metadata": {},
   "outputs": [],
   "source": [
    "# Visualização gráfica do modelo treinado\n",
    "tr.plot_tree(modelo,\n",
    "             class_names=['Aurora', 'Nova', 'Star'],\n",
    "             filled=True);"
   ]
  },
  {
   "cell_type": "code",
   "execution_count": 76,
   "metadata": {},
   "outputs": [
    {
     "name": "stdout",
     "output_type": "stream",
     "text": [
      "Probabilidades de cartão para o cliente - Aurora: 28.41, Nova: 32.42, Star: 39.17\n"
     ]
    }
   ],
   "source": [
    "# Demonstração do resultado da previsão do modelo\n",
    "X_novo = df_treinamento.drop(columns=['loyalty_card']).sample()\n",
    "previsao = modelo.predict_proba(X_novo)\n",
    "print('Probabilidades de cartão para o cliente - Aurora: {:.2f}, Nova: {:.2f}, Star: {:.2f}'.format(100*previsao[0][0], 100*previsao[0][1], 100*previsao[0][2]))\n"
   ]
  },
  {
   "cell_type": "code",
   "execution_count": 77,
   "metadata": {},
   "outputs": [],
   "source": [
    "# Treinando o algoritmo Decision Tree\n",
    "modelo_final_rf = modelo_rf.fit(X, y)"
   ]
  },
  {
   "cell_type": "code",
   "execution_count": 78,
   "metadata": {},
   "outputs": [
    {
     "name": "stdout",
     "output_type": "stream",
     "text": [
      "Probabilidades de cartão para o cliente - Aurora: 28.09, Nova: 34.97, Star: 36.95\n"
     ]
    }
   ],
   "source": [
    "# Demonstração do resultado da previsão do modelo\n",
    "X_novo = X.sample()\n",
    "previsao = modelo_final_rf.predict_proba(X_novo)\n",
    "print('Probabilidades de cartão para o cliente - Aurora: {:.2f}, Nova: {:.2f}, Star: {:.2f}'.format(100*previsao[0][0], 100*previsao[0][1], 100*previsao[0][2]))"
   ]
  },
  {
   "cell_type": "markdown",
   "metadata": {},
   "source": [
    "Painel publicado - Propensão de cliente"
   ]
  },
  {
   "cell_type": "code",
   "execution_count": 79,
   "metadata": {},
   "outputs": [
    {
     "data": {
      "text/plain": [
       "2017"
      ]
     },
     "execution_count": 79,
     "metadata": {},
     "output_type": "execute_result"
    }
   ],
   "source": [
    "# Testes para Slicer\n",
    "X.year.min()"
   ]
  },
  {
   "cell_type": "code",
   "execution_count": 80,
   "metadata": {},
   "outputs": [
    {
     "data": {
      "text/plain": [
       "2018"
      ]
     },
     "execution_count": 80,
     "metadata": {},
     "output_type": "execute_result"
    }
   ],
   "source": [
    "# Testes para Slicer\n",
    "X.year.max()"
   ]
  },
  {
   "cell_type": "code",
   "execution_count": 82,
   "metadata": {},
   "outputs": [
    {
     "name": "stdout",
     "output_type": "stream",
     "text": [
      "* Running on local URL:  http://127.0.0.1:7860\n",
      "* Running on public URL: https://1b5cbb6f3c40d17bf1.gradio.live\n",
      "\n",
      "This share link expires in 1 week. For free permanent hosting and GPU upgrades, run `gradio deploy` from the terminal in the working directory to deploy to Hugging Face Spaces (https://huggingface.co/spaces)\n"
     ]
    },
    {
     "data": {
      "text/html": [
       "<div><iframe src=\"https://1b5cbb6f3c40d17bf1.gradio.live\" width=\"100%\" height=\"500\" allow=\"autoplay; camera; microphone; clipboard-read; clipboard-write;\" frameborder=\"0\" allowfullscreen></iframe></div>"
      ],
      "text/plain": [
       "<IPython.core.display.HTML object>"
      ]
     },
     "metadata": {},
     "output_type": "display_data"
    },
    {
     "name": "stderr",
     "output_type": "stream",
     "text": [
      "c:\\Users\\Giovanna\\anaconda3\\envs\\git\\Lib\\site-packages\\sklearn\\utils\\validation.py:2749: UserWarning: X does not have valid feature names, but RandomForestClassifier was fitted with feature names\n",
      "  warnings.warn(\n"
     ]
    },
    {
     "name": "stdout",
     "output_type": "stream",
     "text": [
      "Keyboard interruption in main thread... closing server.\n",
      "Killing tunnel 127.0.0.1:7860 <> https://1b5cbb6f3c40d17bf1.gradio.live\n"
     ]
    },
    {
     "data": {
      "text/plain": []
     },
     "execution_count": 82,
     "metadata": {},
     "output_type": "execute_result"
    }
   ],
   "source": [
    "\n",
    "\n",
    "# Definindo minha previsão\n",
    "\n",
    "# Função de recebimento dos dados \n",
    "def predict(* args):\n",
    "\n",
    "    # Guardando em um array\n",
    "    X = np.array([args]).reshape(1,-1)\n",
    "\n",
    "    \n",
    "    previsao = modelo_final_rf.predict_proba(X)\n",
    "    return{\"Aurora\": previsao[0][0], \"Nova\": previsao[0][1], \"Star\": previsao[0][2]}\n",
    "\n",
    "\n",
    "\n",
    "\n",
    "# Criando a vizualização em painél nomeado \"demo\"\n",
    "with gr.Blocks() as demo:\n",
    "    # Título do painél\n",
    "    gr.Markdown('''# Propensão de Compra''')\n",
    "\n",
    "    with gr.Row():\n",
    "        with gr.Column():\n",
    "            gr.Markdown('''# Dados de voo do cliente''')\n",
    "            year                        = gr.Slider(label=\"Ano de voo\", minimum=2017, maximum=2018, step=1, randomize=True)\n",
    "            month                       = gr.Slider(label=\"Mês de voo\", minimum=1, maximum=12, step=1, randomize=True)\n",
    "            #flights_booked              = gr.Slider(label=\"Voos Reservados\", minimum=0, maximum=21, step=1, randomize=True)\n",
    "            flights_with_companions     = gr.Slider(label=\"Voos Acompanhados\", minimum=0, maximum=11, step=1, randomize=True)\n",
    "            total_flights               = gr.Slider(label=\"Total de voos\", minimum=0, maximum=32, step=1, randomize=True)\n",
    "            distance                    = gr.Slider(label=\"Diastância média percorrida\", minimum=0, maximum=6293, step=1, randomize=True)\n",
    "            points_accumulated          = gr.Slider(label=\"Pontos Acumulados\", minimum=0.00, maximum=676.50, step=0.1, randomize=True)\n",
    "            salary                      = gr.Slider(label=\"Salário Anual\", minimum=58486.00, maximum=407228.00, step=0.1, randomize=True)\n",
    "            clv                         = gr.Slider(label=\"CLV\", minimum=2119.89, maximum=83325.38, step=0.1, randomize=True)\n",
    "\n",
    "            with gr.Row():\n",
    "                gr.Markdown('''# Botão de previsão''')\n",
    "\n",
    "                # Botão\n",
    "                predict_btn = gr.Button(value='Previsão')\n",
    "\n",
    "        with gr.Column():\n",
    "            gr.Markdown('''# Cartão sugerido''')\n",
    "\n",
    "            # Resposta da previsão\n",
    "            resposta = gr.Label()\n",
    "        \n",
    "\n",
    "    # Botão de previsão\n",
    "    predict_btn.click(\n",
    "        # Modelo a ser executado\n",
    "        fn=predict,\n",
    "        # Entrada dos dados para previsão do modelo\n",
    "        inputs=[\n",
    "            year,\n",
    "            month,\n",
    "            #flights_booked,\n",
    "            flights_with_companions,\n",
    "            total_flights,\n",
    "            distance,\n",
    "            points_accumulated,\n",
    "            salary,\n",
    "            clv ],\n",
    "        # Retorno do modelo testado nos dados\n",
    "        outputs=[resposta],\n",
    "    )\n",
    "\n",
    "demo.launch(debug=True, share=True)"
   ]
  },
  {
   "cell_type": "code",
   "execution_count": null,
   "metadata": {},
   "outputs": [],
   "source": []
  }
 ],
 "metadata": {
  "kernelspec": {
   "display_name": "git",
   "language": "python",
   "name": "python3"
  },
  "language_info": {
   "codemirror_mode": {
    "name": "ipython",
    "version": 3
   },
   "file_extension": ".py",
   "mimetype": "text/x-python",
   "name": "python",
   "nbconvert_exporter": "python",
   "pygments_lexer": "ipython3",
   "version": "3.12.4"
  }
 },
 "nbformat": 4,
 "nbformat_minor": 2
}
